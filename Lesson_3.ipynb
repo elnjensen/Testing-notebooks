{
 "cells": [
  {
   "cell_type": "markdown",
   "metadata": {},
   "source": [
    "<h2 align=\"center\">Iterative Methods for Solving Equations</h2> "
   ]
  },
  {
   "cell_type": "markdown",
   "metadata": {},
   "source": [
    "Solving differential equations numerically can often be much faster than doing so analytically.  The Euler-Cromer method provides a simple solution to solving equations.  Read pages 1-5 of <a href=\"https://moodle.swarthmore.edu/mod/resource/view.php?id=180998\">the PDF provided on Moodle</a> for the basic background information on this method, which we'll use in today's lesson.\n",
    "\n",
    "Once you've finished that, look at the code below."
   ]
  },
  {
   "cell_type": "code",
   "execution_count": 2,
   "metadata": {
    "collapsed": false
   },
   "outputs": [
    {
     "data": {
      "image/png": "[encoded data removed]",
      "text/plain": [
       "<matplotlib.figure.Figure at 0x106b75198>"
      ]
     },
     "metadata": {},
     "output_type": "display_data"
    }
   ],
   "source": [
    "#import lines\n",
    "%matplotlib inline\n",
    "import matplotlib.pyplot as mp\n",
    "\n",
    "def EulerCromer(tfinal, dt, v0):\n",
    "    '''Euler-Cromer method, takes tfinal (final time), dt (time step), \n",
    "    and v0 (initial velocity) as arguments'''\n",
    "    t = 0 # initial time\n",
    "    y = 0 # initial position\n",
    "    a = 0 # no acceleration\n",
    "    v = v0 # initial velocity\n",
    "\n",
    "    # Set up position, velocity, and time arrays, initially with one\n",
    "    # entry each:\n",
    "    time = [t] \n",
    "    ypos = [y] \n",
    "    yvel = [v]\n",
    "    \n",
    "    while t <= tfinal - dt: # Update variables using Eqs. (1) & (2) \n",
    "        v = v + a * dt \n",
    "        # Note that this uses the *new* v we just defined in prev. step\n",
    "        y = y + v * dt\n",
    "\n",
    "        # Add updated variables to the lists \n",
    "        yvel.append(v) \n",
    "        ypos.append(y)\n",
    "\n",
    "        # Increment time \n",
    "        t = t + dt \n",
    "        time.append(t)\n",
    "        \n",
    "    #plot results\n",
    "    %matplotlib inline\n",
    "    import matplotlib.pyplot as mp\n",
    "    mp.subplot(2,1,1)\n",
    "    mp.plot(time,yvel)\n",
    "    mp.title(\"Velocity\")\n",
    "    mp.subplot(2,1,2)\n",
    "    mp.plot(time,ypos)\n",
    "    mp.title(\"Position\")\n",
    "    mp.tight_layout(pad=2)\n",
    "    mp.show()\n",
    "    \n",
    "EulerCromer(10,0.1,50)"
   ]
  },
  {
   "cell_type": "markdown",
   "metadata": {},
   "source": [
    "These plots show the velocity and position of an object moving at zero accceleration.  This is not particularly interesting.  But the nice thing about solving equations numerically is that it makes it relatively simple to add other effects, which in some cases can be difficult to build into an analytic solution.\n",
    "\n",
    "*Note:*  In the exercises below, you will write successively more realistic versions of the algorithm above.  For each case, write a new function, copying and pasting code as necessary from your previous cell(s).  Give each new function a different name so that there is no confusion about which function your code is calling.\n",
    "\n",
    "**Exercise 1** Create a modified version of the code above that includes Earth's gravity.  The acceleration, $a$, will no longer be a constant.  The force of gravity on an object near earth is given by $F = G m M_E / r^2$ where $G = 6.674 \\times 10^{-11}$ in SI units and the mass of Earth is $M_E = 5.972 \\times 10^{24}$ kg.  Use the radius of the Earth, $R_E = y=6.371 \\times 10^6$ m as your starting `y`.  Write your code as a function that takes as an argument the mass of the object, an initial velocity, and a final time."
   ]
  },
  {
   "cell_type": "code",
   "execution_count": null,
   "metadata": {
    "collapsed": true
   },
   "outputs": [],
   "source": []
  },
  {
   "cell_type": "markdown",
   "metadata": {},
   "source": [
    "**Exercise 2** Make a modified version of your code such that the function stops if the object has returned to Earth.  Have the function print the time and speed at which it landed."
   ]
  },
  {
   "cell_type": "code",
   "execution_count": null,
   "metadata": {
    "collapsed": true
   },
   "outputs": [],
   "source": []
  },
  {
   "cell_type": "markdown",
   "metadata": {},
   "source": [
    "**Exercise 3** Modify your code to now include drag.  Quadratic air drag in one dimension can be approximated as an additional acceleration, with a magnitude of $ a_{drag} = \\frac{1}{2m} C_D \\rho A v^2$ (where $C_D = 0.5$ and $\\rho=1.3$ approximately on Earth) and a direction that is *opposite the direction of the velocity*.  Your function should take $A$, the cross-sectional area of the object, as an argument.  For your final test case to turn in, use $A = 1\\, m^2$, but play around with other areas to see the effect.  (As you're doing this, think about what physical objects might have the mass and cross-sectional area you're using, and how easy or hard it would be to set them going with a given initial velocity.) "
   ]
  },
  {
   "cell_type": "code",
   "execution_count": null,
   "metadata": {
    "collapsed": true
   },
   "outputs": [],
   "source": []
  },
  {
   "cell_type": "markdown",
   "metadata": {},
   "source": [
    "**Exercise 4** Modify the code again to model a rocket engine, which loses mass as it moves.  The force of the rocket is given by $m a = V (dm/dt)$ with $V$ given by the specific impulse of the rocket fuel, $V = \\tau g$. Here $\\tau$ = 263 s for the Saturn V rocket fuel and $g$ is the acceleration of gravity.  The Saturn V rocket weighed 2.81 million kg, of which 2.08 million kg was fuel that was burned in 160 s.  Use these numbers to find $dm/dt$ and $V$, and use the equation above to modify your code again to plot the rocket's motion in the first 160 s."
   ]
  },
  {
   "cell_type": "code",
   "execution_count": null,
   "metadata": {
    "collapsed": true
   },
   "outputs": [],
   "source": []
  },
  {
   "cell_type": "markdown",
   "metadata": {},
   "source": [
    "**Exercise 5** Modify your code again to assume that the density of the air ($\\rho$) decreases linearly from 1.3 at Earth's surface to zero at 100 km altitude."
   ]
  },
  {
   "cell_type": "code",
   "execution_count": null,
   "metadata": {
    "collapsed": true
   },
   "outputs": [],
   "source": []
  },
  {
   "cell_type": "markdown",
   "metadata": {},
   "source": [
    "**Exercise 6** Determine approximately (within about an order of magnitude) how much mass the Saturn V lifted into low Earth orbit.  In order to reach low Earth orbit, you need to reach approximately 1000 km altitude and have a velocity of 7.8 km/s.  You may want to do this by revising the stop condition in Exercise 2 to stop when it reaches 1000 km."
   ]
  },
  {
   "cell_type": "code",
   "execution_count": null,
   "metadata": {
    "collapsed": true
   },
   "outputs": [],
   "source": []
  },
  {
   "cell_type": "markdown",
   "metadata": {},
   "source": [
    "The next step would be to make this a 2 dimensional calculation, but for the purposes of this lab, we'll stop here."
   ]
  },
  {
   "cell_type": "code",
   "execution_count": null,
   "metadata": {
    "collapsed": true
   },
   "outputs": [],
   "source": []
  }
 ],
 "metadata": {
  "kernelspec": {
   "display_name": "Python 3",
   "language": "python",
   "name": "python3"
  },
  "language_info": {
   "codemirror_mode": {
    "name": "ipython",
    "version": 3
   },
   "file_extension": ".py",
   "mimetype": "text/x-python",
   "name": "python",
   "nbconvert_exporter": "python",
   "pygments_lexer": "ipython3",
   "version": "3.5.1"
  }
 },
 "nbformat": 4,
 "nbformat_minor": 0
}
